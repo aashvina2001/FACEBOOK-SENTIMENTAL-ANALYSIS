{
 "cells": [
  {
   "cell_type": "code",
   "execution_count": 1,
   "metadata": {},
   "outputs": [
    {
     "name": "stderr",
     "output_type": "stream",
     "text": [
      "[nltk_data] Downloading package vader_lexicon to\n",
      "[nltk_data]     C:\\Users\\GOD\\AppData\\Roaming\\nltk_data...\n",
      "[nltk_data]   Package vader_lexicon is already up-to-date!\n"
     ]
    },
    {
     "data": {
      "text/plain": [
       "True"
      ]
     },
     "execution_count": 1,
     "metadata": {},
     "output_type": "execute_result"
    }
   ],
   "source": [
    "import pandas as pd\n",
    "import nltk\n",
    "from nltk.sentiment.vader  import SentimentIntensityAnalyzer\n",
    "nltk.downloader.download('vader_lexicon')"
   ]
  },
  {
   "cell_type": "code",
   "execution_count": 3,
   "metadata": {},
   "outputs": [],
   "source": [
    "file='C:/Users/GOD/Desktop/data.xlsx'\n",
    "xl=pd.ExcelFile(file)#read from excel\n"
   ]
  },
  {
   "cell_type": "code",
   "execution_count": 4,
   "metadata": {},
   "outputs": [
    {
     "name": "stdout",
     "output_type": "stream",
     "text": [
      "['This view is amazing.', 'This view is amazing.', 'I am so excited about the concert.', 'He is my best friend.', 'I do not like this car.\\n', '\\nHe is my enemy.', '\\nI am not looking forward to the concert.\\n', '\\nThis view is horrible.\\n', '\\nI am not looking forward to the concert.\\n', '\\n\\nI feel tired this morning.\\n', '\\nI am not looking forward to the concert.\\nHe is my enemy.']\n"
     ]
    }
   ],
   "source": [
    "dfs=xl.parse(xl.sheet_names[0])\n",
    "dfs=list(dfs['timeline'])\n",
    "print(dfs)"
   ]
  },
  {
   "cell_type": "code",
   "execution_count": 5,
   "metadata": {},
   "outputs": [
    {
     "name": "stdout",
     "output_type": "stream",
     "text": [
      "This view is amazing.\n",
      "neg 0.0\n",
      "neu 0.441\n",
      "pos 0.559\n",
      "compound 0.5859\n",
      "This view is amazing.\n",
      "neg 0.0\n",
      "neu 0.441\n",
      "pos 0.559\n",
      "compound 0.5859\n",
      "I am so excited about the concert.\n",
      "neg 0.0\n",
      "neu 0.65\n",
      "pos 0.35\n",
      "compound 0.4005\n",
      "He is my best friend.\n",
      "neg 0.0\n",
      "neu 0.288\n",
      "pos 0.712\n",
      "compound 0.8126\n",
      "I do not like this car.\n",
      "\n",
      "neg 0.345\n",
      "neu 0.655\n",
      "pos 0.0\n",
      "compound -0.2755\n",
      "\n",
      "He is my enemy.\n",
      "neg 0.538\n",
      "neu 0.462\n",
      "pos 0.0\n",
      "compound -0.5423\n",
      "\n",
      "I am not looking forward to the concert.\n",
      "\n",
      "neg 0.0\n",
      "neu 1.0\n",
      "pos 0.0\n",
      "compound 0.0\n",
      "\n",
      "This view is horrible.\n",
      "\n",
      "neg 0.538\n",
      "neu 0.462\n",
      "pos 0.0\n",
      "compound -0.5423\n",
      "\n",
      "I am not looking forward to the concert.\n",
      "\n",
      "neg 0.0\n",
      "neu 1.0\n",
      "pos 0.0\n",
      "compound 0.0\n",
      "\n",
      "\n",
      "I feel tired this morning.\n",
      "\n",
      "neg 0.492\n",
      "neu 0.508\n",
      "pos 0.0\n",
      "compound -0.4404\n",
      "\n",
      "I am not looking forward to the concert.\n",
      "He is my enemy.\n",
      "neg 0.259\n",
      "neu 0.741\n",
      "pos 0.0\n",
      "compound -0.5423\n"
     ]
    }
   ],
   "source": [
    "sid=SentimentIntensityAnalyzer()\n",
    "for data in dfs:\n",
    "    ss=sid.polarity_scores(data)\n",
    "    print(data)\n",
    "    for k in ss:\n",
    "        print(k,ss[k])"
   ]
  },
  {
   "cell_type": "code",
   "execution_count": null,
   "metadata": {},
   "outputs": [],
   "source": []
  }
 ],
 "metadata": {
  "kernelspec": {
   "display_name": "Python 3",
   "language": "python",
   "name": "python3"
  },
  "language_info": {
   "codemirror_mode": {
    "name": "ipython",
    "version": 3
   },
   "file_extension": ".py",
   "mimetype": "text/x-python",
   "name": "python",
   "nbconvert_exporter": "python",
   "pygments_lexer": "ipython3",
   "version": "3.8.5"
  }
 },
 "nbformat": 4,
 "nbformat_minor": 4
}
